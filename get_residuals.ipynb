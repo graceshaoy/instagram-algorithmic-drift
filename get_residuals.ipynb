{
  "nbformat": 4,
  "nbformat_minor": 0,
  "metadata": {
    "colab": {
      "provenance": [],
      "machine_shape": "hm"
    },
    "kernelspec": {
      "name": "python3",
      "display_name": "Python 3"
    },
    "language_info": {
      "name": "python"
    }
  },
  "cells": [
    {
      "cell_type": "code",
      "execution_count": null,
      "metadata": {
        "id": "5DA3XA8ACPVa",
        "colab": {
          "base_uri": "https://localhost:8080/"
        },
        "outputId": "0dfc227f-778b-4c5e-ca9c-44fd0c318d49"
      },
      "outputs": [
        {
          "output_type": "stream",
          "name": "stdout",
          "text": [
            "Mounted at ME\n"
          ]
        }
      ],
      "source": [
        "import os\n",
        "# Check if you're on Google drive or on your own machine.\n",
        "# Get path to your data.\n",
        "if ('google' in str(get_ipython())):\n",
        "    from google.colab import drive\n",
        "    drive.mount('ME', force_remount=True)\n",
        "    predir='ME/MyDrive/Colab_Notebooks/thesis'"
      ]
    },
    {
      "cell_type": "code",
      "source": [
        "import matplotlib.pyplot as plt\n",
        "import matplotlib.patches as mpatches\n",
        "import matplotlib.lines as mlines\n",
        "import seaborn as sns\n",
        "import pandas as pd\n",
        "import numpy as np\n",
        "import warnings\n",
        "from tqdm import tqdm\n",
        "import pickle\n",
        "\n",
        "from sklearn.preprocessing import StandardScaler\n",
        "import torch\n",
        "import torch.nn as nn\n",
        "\n",
        "import os\n",
        "os.environ['CUDA_LAUNCH_BLOCKING'] = \"1\""
      ],
      "metadata": {
        "id": "B9AmXOpkC_gq"
      },
      "execution_count": null,
      "outputs": []
    },
    {
      "cell_type": "markdown",
      "source": [
        "# notebook variables"
      ],
      "metadata": {
        "id": "TT2AB0_OEHMl"
      }
    },
    {
      "cell_type": "code",
      "source": [
        "groups = {\n",
        "    'cat': ['nala_cat','realgrumpycat','smoothiethecat','catconworldwide','maple.cat','catinberlin','catladybox','triumphant_teagan','aliencatmatilda','mollymollzthetabby','my_lulu_cat_','my_furry_babies','monicasisson','allcreaturestv','moana.and.snapple','thatcatconrad','catsvscancer','baili_the_cat','panther.cat','rajathebengal','butter_the_siberian','trippy.tails','bearbear.cat','mochicat168','bellina_kitty_cat','rainerogers','ambrosepets','realbadgalrhirhi','pawaiihub','denbo_nish','siberian.milo'],\n",
        "    'cook': ['halfbakedharvest','ketosnackz','nourishing','smittenkitchen','olivia.adriance','chloecleroux','geoffreyzakarian','177milkstreet','winnyhayes','alyssacoadynutrition','liveeatlearn','thefoodnanny','femalefoodie','sherryhour','allinspiredwellness','mytoddlerskitchen','simplicityandastarter','reciperunner','jamleenbears','lydialove98','mleroehler','anniesfinds_','carnivore_connoisseur_','littlespoonfarmblog','perfectsupplements','feelgoodwithfi','yourstrulyani','thismomentinthyme','leahmariestack','through.manals.lens','recipesfrommichelle','mccauley_tawpash','mintandclove','ashleighbovard','neeleman_food_'],\n",
        "    # using lda\n",
        "    'brands' : ['nike', 'adidas', 'starbucks', 'apple', 'samsung', 'netflix', 'amazon', 'google', 'microsoft', 'tesla', 'cocacola', 'pepsi', 'redbull', 'louisvuitton', 'gucci', 'chanel', 'prada', 'zara', 'hugo', 'hm', 'ikea', 'lego', 'target', 'walmart', 'mcdonalds', 'burgerking', 'kfc', 'dominos', 'airbnb', 'uber', 'spotify', 'youtube', 'facebook', 'instagram', 'twitter', 'pinterest', 'tiktok', 'snapchat', 'linkedin', 'sony', 'playstation', 'xbox', 'nintendo', 'disney', 'marvel', 'pixar', 'warnerbros', 'hbo', 'hulu', 'espn', 'nba', 'nfl', 'fifa', 'nikefootball', 'adidasfootball', 'puma', 'underarmour', 'reebok', 'converse', 'vans', 'forever21', 'victoriassecret', 'calvinklein', 'tommyhilfiger', 'ralphlauren', 'burberry', 'dior', 'versace', 'balenciaga', 'givenchy', 'fendi', 'hermes', 'cartier', 'tiffanyandco', 'rayban', 'oakley', 'gopro', 'canon', 'nikon', 'sonymusic', 'universalmusic', 'warnerrecords', 'atlanticrecords', 'rollingstone', 'vogue', 'elle', 'harpersbazaar', 'cosmopolitan'],\n",
        "    # using deepseek\n",
        "    'celebrities' : ['cristiano', 'leomessi', 'selenagomez', 'therock', 'kyliejenner', 'arianagrande', 'kimkardashian', 'beyonce', 'khloekardashian', 'justinbieber', 'kendalljenner', 'taylorswift', 'jlo', 'nickiminaj', 'kourtneykardash', 'mileycyrus', 'katyperry', 'zendaya', 'kevinhart4real', 'kingjames', 'ddlovato', 'badgalriri', 'champagnepapi', 'ellendegeneres', 'k.mbappe', 'billieeilish', 'lalalalisa_m', 'vindiesel', 'shraddhakapoor', 'priyankachopra', 'narendramodi', 'shakira', 'snoopdogg', 'davidbeckham', 'dualipa', 'jennierubyjane', 'aliaabhatt'],\n",
        "    # using chatgpt\n",
        "    'democrats' : ['joebiden', 'kamalaharris', 'barackobama', 'michelleobama', 'berniesanders', 'aoc', 'chuckSchumer', 'elizabethwarren', 'amyklobuchar', 'corybooker', 'chrismurphyct', 'repjerrynadler', 'repkatieporter', 'repvaldemings', 'repdebhaaland', 'repmarkpocan', 'repjimmygomez', 'repdavidcicilline', 'repdonbeyer', 'repderekkilmer', 'repsusielee', 'repkathleenrice', 'repjimhimes', 'repgregstanton', 'repjuanvargas', 'repmikethompson', 'repjimlangevin', 'repjimcosta', 'repjimmygomez', 'repjoshharder', 'repkatiehill'],\n",
        "    'republicans' : ['mikepence', 'realdonaldtrump', 'potus', 'lindseygrahamsc', 'tedcruz', 'mittromney', 'pauldavisryan', 'ronjohnsonwi', 'marcorubio', 'newtgingrich', 'speakermccarthy', 'johncornyn', 'rondesantis', 'kristinoem', 'stevescalise', 'markmeadows', 'tx', 'elisestefanik', 'leezeldin', 'cathymcmorris', 'replizcheney', 'repmattgaetz', 'repbrianmast', 'repgregpence', 'repmarkgreen', 'repbuddycarter', 'repjeffduncan', 'repdavidkustoff', 'reppatfallon', 'repchrisstewart', 'repkenbuck'],\n",
        "    # using deepseek\n",
        "\n",
        "    'news': ['wsj', 'financialtimes', 'msnbc', 'cspan', 'theintercept', 'aljazeera', 'foxnews', 'guardian', 'time', 'nytimes', 'newsweek', 'bbcnews', 'bloomberg', 'nypost', 'businessinsider', 'cnn', 'forbes,politico', 'huffpost', 'abcnews', 'nbcnews', 'axios', 'thehill', 'cbsnews', 'usatoday', 'washingtonpost', 'vice', 'latimes', 'reuters', 'thedailybeast', 'npr', 'apnews'],\n",
        "\n",
        "    'gun' : ['garand_thumb','gunpolicy','gunownersofamerica','sb.tactical','lawtactical','midwestindustries','centuryarms','gundrummer','griffin_armament','down_range_photography','maximdefense','zaffiri.precision','pewpewtactical','killerinnovations','rarebreedfirearms','battleborn','xtechtactical','gregskazphotography','kci_usa','firearmchronicles','patriot_defense_gear','704_tactical','armedscholaryt','shootersgrill','elevatedsilence','sdgunowners','womenforgunrights','gunownersca','2arally','rmgo_official'],\n",
        "    # using lda\n",
        "\n",
        "    'healthright' : ['thetruthaboutcancerttac','elaineshtein','drmercola','joshsfarmersmarket','dr.goodyear','crunchykass','raw_farm_usa','farmmatch','theregenaissance','momsacrossamerica','freedom.hill.farm','ilanamuhlsteinrd','jessalyn.randle','bobolinkdairyandbakehouse'],\n",
        "    # using sbert\n",
        "\n",
        "    'healthleft' : ['peoplescdc','clean.air.club','youlookokaytome','topheravila','thesicktimes','longcovidjustice','thaibrows','berlin_buyers_club','la.spoonie.collective','thecovidcollection','long_hauler_haven','maskednh','jaydocovid','maskblocseattle','cleartheair.atx','transgressivemedicine','itsjiyounkim'],\n",
        "\n",
        "    # using sbert\n",
        "    'queer' : ['them','themilesmckenna','queer_lective','dylanmulvaney','themme_fatale','chellaman','tanyacompas','mattxiv','sadegiliberti','jessicaoutofthecloset','genderlib','jake_graf5','raindovemodel','plussizetransguy','trans.ginger','trevorproject','chandlernwilson','blacktranstravelfund','mpjinstitute','gabesdunn'],\n",
        "\n",
        "    'palestine' : ['jd.moha','mikopeled','wizard_bisan1','jewishvoiceforpeace','plestia.alaqad','belalkh','zein_rahma','eid_yara','lama_jamous9','jenanmatari','dr.ghassan.as','nooh.xp','savesilwan','amirgharabawi','saher_alghorra','haneen.maher.salem','palmuseum','yplusmedia','palestinianyouthmovement','right2edu','sjp.uo','uospalsoc','bigbigbigthings','jaxpsn','alaa_fayez.12','wizard_bisan2','bayanpalestine','mohammadhureini','hind.touissate','palestinehouseoffreedom','taniasafi','nadiforpalestine','queersinpalestine','apc_uk_london','shirien.creates','operationolivebranch'],\n",
        "    'zionist' : ['betarworldwide','israelcc','standwithus','jewishwomen4allwomen','adielofisrael','ajc.global', 'strength4israel','_danielbraun','montanatucker','proudzionista','antisemitism','j.majburd','israel365action','bringhomenow','bring.amiram.home.now','aipac','kidnappedfromisrael','dahliakurtz','cameraoncampus','mactaskforce','elizabethyounger','lanianpo','henmazzig','freejamshidsharmahd','natashahausdorff','worldjewishcongress','allhostages','bringbackourhearts','thepersianjewess','michahdoot','leetrink','themodernmaccabee','ajewishresistance','zicksworld','abbasez'], # 'susancollinsla' not just israel\n",
        "\n",
        "    'tradwife' : ['ourquaintandcozy','call_mejewels','hannahlee.yoder','simplyalliehomestead','ballerinafarm','esteecwilliams','zimcolorado','classicallyabby','naraaziza','lifewithmrsp', '_cynthialoewenseguin']\n",
        "    # using sbert\n",
        "}\n",
        "groupmap = {v: k for k, vs in groups.items() for v in vs}\n",
        "group_titles = {\n",
        "    'cat': 'Cat',\n",
        "    'cook': 'Cooking',\n",
        "    'brands': 'Brands',\n",
        "    'celebrities': 'Celebrities',\n",
        "    'democrats': 'Democrats',\n",
        "    'republicans': 'Republicans',\n",
        "    'news': 'News',\n",
        "    'gun': 'Gun',\n",
        "    'healthright': 'Health Right',\n",
        "    'healthleft': 'Health Left',\n",
        "    'queer': 'LGBTQ',\n",
        "    'palestine':'Pro-Palestine',\n",
        "    'zionist': 'Zionist',\n",
        "    'tradwife': 'Tradwives'\n",
        "}\n",
        "group_order = ['cat', 'cook', 'brands', 'celebrities', 'news','democrats', 'republicans', 'healthright', 'healthleft','gun', 'queer', 'tradwife','palestine', 'zionist']\n",
        "\n",
        "finished_usernames = \"thismomentinthyme,shraddhakapoor,trans.ginger,recipesfrommichelle,zaffiri.precision,reppatfallon,repdonbeyer,baili_the_cat,businessinsider,shootersgrill,trippy.tails,ambrosepets,classicallyabby,chellaman,ballerinafarm,patriot_defense_gear,mattxiv,bobolinkdairyandbakehouse,lindseygrahamsc,moana.and.snapple,instagram,mittromney,yplusmedia,arianagrande,_danielbraun,hind.touissate,plussizetransguy,selenagomez,through.manals.lens,repkenbuck,allinspiredwellness,jewishvoiceforpeace,taylorswift,pawaiihub,cspan,jaxpsn,repjerrynadler,mytoddlerskitchen,rarebreedfirearms,berniesanders,nooh.xp,xtechtactical,kevinhart4real,kamalaharris,repjuanvargas,catsvscancer,shakira,disney,themilesmckenna,taniasafi,repmarkpocan,itsjiyounkim,apc_uk_london,bigbigbigthings,rondesantis,target,reciperunner,chandlernwilson,palmuseum,repjimcosta,bayanpalestine,underarmour,nala_cat,bearbear.cat,repkathleenrice,liveeatlearn,barackobama,repjimhimes,aoc,repdebhaaland,cristiano,mcdonalds,lalalalisa_m,rmgo_official,smoothiethecat,tanyacompas,zendaya,louisvuitton,kimkardashian,calvinklein,victoriassecret,speakermccarthy,gabesdunn,queer_lective,montanatucker,down_range_photography,davidbeckham,belalkh,sdgunowners,repdavidkustoff,chrismurphyct,adidasfootball,winnyhayes,johncornyn,panther.cat,longcovidjustice,geoffreyzakarian,triumphant_teagan,blacktranstravelfund,ajewishresistance,nourishing,feelgoodwithfi,thetruthaboutcancerttac,israelcc,cartier,haneen.maher.salem,kourtneykardash,trevorproject,repbuddycarter,aliaabhatt,alaa_fayez.12,proudzionista,repjimlangevin,tedcruz,khloekardashian,transgressivemedicine,drmercola,pauldavisryan,michahdoot,repdavidcicilline,adielofisrael,freejamshidsharmahd,repkatieporter,sonymusic,repsusielee,leahmariestack,jake_graf5,microsoft,amirgharabawi,halfbakedharvest,billieeilish,femalefoodie,jlo,la.spoonie.collective,shirien.creates,mikepence,leezeldin,freedom.hill.farm,mpjinstitute,reuters,justinbieber,repbrianmast,lawtactical,704_tactical,ketosnackz,jessicaoutofthecloset,marcorubio,mccauley_tawpash,jennierubyjane,youlookokaytome,beyonce,gunownersofamerica,killerinnovations,elizabethyounger,right2edu,sadegiliberti,mleroehler,mintandclove,jd.moha,thaibrows,kyliejenner,them,esteecwilliams,starbucks,bloomberg,butter_the_siberian,my_furry_babies,pewpewtactical,farmmatch,alyssacoadynutrition,joebiden,repmarkgreen,priyankachopra,elevatedsilence,lydialove98,chloecleroux,amazon,thatcatconrad,narendramodi,hulu,aipac,kendalljenner,repgregpence,catconworldwide,badgalriri,uospalsoc,mikopeled,kristinoem,dylanmulvaney,dahliakurtz,champagnepapi,warnerrecords,repvaldemings,naraaziza,replizcheney,bellina_kitty_cat,repjoshharder,repchrisstewart,tommyhilfiger,neeleman_food_,aliencatmatilda,joshsfarmersmarket,raw_farm_usa,mohammadhureini,corybooker,plestia.alaqad,denbo_nish,wizard_bisan1,gundrummer,nickiminaj,kingjames,savesilwan,sb.tactical,ellendegeneres,antisemitism,gunownersca,topheravila,peoplescdc,rainerogers,repjimmygomez,abbasez,firearmchronicles,repkatiehill,mollymollzthetabby,anniesfinds_,lanianpo,zein_rahma,jessalyn.randle,call_mejewels,allcreaturestv,monicasisson,google,themme_fatale,maple.cat,perfectsupplements,kci_usa,nikefootball,mactaskforce,mochicat168,armedscholaryt,elaineshtein,kfc,chuckSchumer,leetrink,canon,catinberlin,battleborn,thefoodnanny,ourquaintandcozy,michelleobama,womenforgunrights,littlespoonfarmblog,zicksworld,olivia.adriance,leomessi,sherryhour,newtgingrich,elisestefanik,my_lulu_cat_,realgrumpycat,henmazzig,griffin_armament,_cynthialoewenseguin,repderekkilmer,centuryarms,lifewithmrsp,2arally,dr.goodyear,prada,eid_yara,ilanamuhlsteinrd,dominos,repjeffduncan,maximdefense,stevescalise,ashleighbovard,garand_thumb,k.mbappe,siberian.milo,nikon,cameraoncampus,realbadgalrhirhi,markmeadows,ronjohnsonwi,vice,raindovemodel,momsacrossamerica,repmattgaetz,repgregstanton,xbox,vindiesel,repmikethompson,katyperry,cathymcmorris,apple,therock,cosmopolitan,themodernmaccabee,pixar,ddlovato,worldjewishcongress,elizabethwarren,gopro,saher_alghorra,gunpolicy,catladybox,gregskazphotography,mileycyrus,midwestindustries,spotify,realdonaldtrump,yourstrulyani,amyklobuchar\".split(\",\")"
      ],
      "metadata": {
        "id": "TD20v3eQDCfz"
      },
      "execution_count": null,
      "outputs": []
    },
    {
      "cell_type": "code",
      "source": [
        "with open(predir+'/data/df_bypost_all.pkl', 'rb') as f:\n",
        "    df_bypost = pickle.load(f)\n",
        "\n",
        "df_bypost = df_bypost.dropna(subset=['post_times']).query('likes > 0')[df_bypost['username'].isin(finished_usernames)]\n",
        "\n",
        "# Extract cyclical time features\n",
        "def fourier_encode(df):\n",
        "    df['hour'] = df['post_times'].dt.hour\n",
        "    df['day_of_week'] = df['post_times'].dt.dayofweek  # 0=Monday\n",
        "    df['month'] = df['post_times'].dt.month\n",
        "    df['hour_sin'] = np.sin(2 * np.pi * df['hour'] / 24)\n",
        "    df['hour_cos'] = np.cos(2 * np.pi * df['hour'] / 24)\n",
        "    df['day_sin'] = np.sin(2 * np.pi * df['day_of_week'] / 7)\n",
        "    df['day_cos'] = np.cos(2 * np.pi * df['day_of_week'] / 7)\n",
        "    df['month_sin'] = np.sin(2 * np.pi * df['month'] / 12)\n",
        "    df['month_cos'] = np.cos(2 * np.pi * df['month'] / 12)\n",
        "    return df\n",
        "\n",
        "data = fourier_encode(df_bypost)\n",
        "\n",
        "\n",
        "# Time since last post (in hours)\n",
        "data['timedelta'] = data['timedelta'].fillna(-1)  # First post\n",
        "\n",
        "data['log_likes'] = np.log(data['likes']+1)\n",
        "\n",
        "# Rolling average of likes (past 14 posts)\n",
        "data['rolling_likes'] = (\n",
        "    data.groupby('username')['log_likes']\n",
        "    .transform(lambda x: x.shift(1).rolling(14, min_periods=1).mean())\n",
        ")\n",
        "\n",
        "# get the rate of change using np.gradient\n",
        "data['deriv1'] = np.gradient(data['rolling_likes'])\n",
        "data['deriv2'] = np.gradient(data['deriv1'])\n",
        "\n",
        "data = data[data['date'] > pd.to_datetime('2023-01-01')]"
      ],
      "metadata": {
        "id": "g7p5Xld8DENG",
        "colab": {
          "base_uri": "https://localhost:8080/"
        },
        "outputId": "8764f85f-4840-45d7-d5ef-0a8787478a4e"
      },
      "execution_count": null,
      "outputs": [
        {
          "output_type": "stream",
          "name": "stderr",
          "text": [
            "<ipython-input-19-99d4461eff96>:4: UserWarning: Boolean Series key will be reindexed to match DataFrame index.\n",
            "  df_bypost = df_bypost.dropna(subset=['post_times']).query('likes > 0')[df_bypost['username'].isin(finished_usernames)]\n"
          ]
        }
      ]
    },
    {
      "cell_type": "code",
      "source": [
        "REACHBACK = 14\n",
        "device = torch.device(\"cuda\" if torch.cuda.is_available() else \"cpu\")"
      ],
      "metadata": {
        "id": "aT1z4717EMmz"
      },
      "execution_count": null,
      "outputs": []
    },
    {
      "cell_type": "markdown",
      "source": [
        "# model functions"
      ],
      "metadata": {
        "id": "TsIcZVCTEP0r"
      }
    },
    {
      "cell_type": "code",
      "source": [
        "def df_to_traintest(df, PrepData):\n",
        "  dataprepper = PrepData(df, reachback_length = REACHBACK)\n",
        "  dataset = [x for x in dataprepper.get_dataset()]\n",
        "\n",
        "  X, y = torch.cat([x[0] for x in dataset], dim=0), torch.tensor([x[1] for x in dataset])\n",
        "  X = X.reshape(len(dataset), dataprepper.reachback_length*X.shape[1])\n",
        "\n",
        "  torch.manual_seed(42)\n",
        "  train, val = torch.utils.data.random_split(list(zip(X,y)), [int(0.8*len(dataset)), len(dataset) - int(0.8*len(dataset))])\n",
        "\n",
        "  # print(f\"Train size: {len(train)}\")\n",
        "  # print(f\"Val size: {len(val)}\")\n",
        "\n",
        "  trainx, trainy = np.vstack([x[0] for x in train]), np.array([x[1] for x in train])\n",
        "  valx, valy = np.vstack([x[0] for x in val]), np.array([x[1] for x in val])\n",
        "  # testx, testy = np.vstack([x[0] for x in test]), np.array([x[1] for x in test])\n",
        "\n",
        "  # Convert numpy arrays to PyTorch datasets\n",
        "  train_dataset = torch.utils.data.TensorDataset(torch.tensor(trainx, dtype=torch.float32),\n",
        "                                                torch.tensor(trainy, dtype=torch.float32))\n",
        "  val_dataset = torch.utils.data.TensorDataset(torch.tensor(valx, dtype=torch.float32),\n",
        "                                              torch.tensor(valy, dtype=torch.float32))\n",
        "\n",
        "  # Create data loaders\n",
        "  batch_size = 64\n",
        "  train_loader = torch.utils.data.DataLoader(train_dataset, batch_size=batch_size, shuffle=True, num_workers=12)\n",
        "  val_loader = torch.utils.data.DataLoader(val_dataset, batch_size=batch_size, num_workers=12)\n",
        "\n",
        "  return train_loader, val_loader\n",
        "\n",
        "def data_loader(df,PrepData, reachback_length=REACHBACK):\n",
        "    dataprepper = PrepData(df, single_user=True, reachback_length=reachback_length)\n",
        "    dataset = [x for x in dataprepper.get_dataset()]\n",
        "    x, y = np.vstack([x[0] for x in dataset]), np.array([x[1] for x in dataset])\n",
        "    x = x.reshape(len(dataset), dataprepper.reachback_length*x.shape[1])\n",
        "\n",
        "    dataset = torch.utils.data.TensorDataset(torch.tensor(x, dtype=torch.float32),\n",
        "                                             torch.tensor(y, dtype=torch.float32))\n",
        "    batch_size = 64\n",
        "    loader = torch.utils.data.DataLoader(dataset, batch_size=batch_size, num_workers=12)\n",
        "    return loader"
      ],
      "metadata": {
        "id": "4OSD3Mv1EQyQ"
      },
      "execution_count": null,
      "outputs": []
    },
    {
      "cell_type": "code",
      "source": [
        "class TwoBranchPrepData():\n",
        "    def __init__(self, df, reachback_length=REACHBACK,single_user=False):\n",
        "        self.df = df\n",
        "        self.reachback_length = reachback_length\n",
        "        self.users = df['username'].unique()\n",
        "        self.single_user = single_user\n",
        "\n",
        "        # Precompute reachback\n",
        "        self.reachback = []\n",
        "        if self.single_user:\n",
        "          for i in range(len(self.df) - (self.reachback_length)):\n",
        "              seq = self.df.iloc[i:i+self.reachback_length]\n",
        "              target = self.df.iloc[i+self.reachback_length]['likes']\n",
        "              target = np.log(target+1)\n",
        "              self.reachback.append((seq, target))\n",
        "        else:\n",
        "          for user in self.users:\n",
        "              user_df = self.df[self.df['username'] == user]\n",
        "              for i in range(len(user_df) - (self.reachback_length)):\n",
        "                  seq = user_df.iloc[i:i+self.reachback_length]\n",
        "                  target = user_df.iloc[i+self.reachback_length]['likes']\n",
        "                  target = np.log(target+1)\n",
        "                  self.reachback.append((seq, target))\n",
        "\n",
        "    def __getitem__(self, idx):\n",
        "        reachback, target = self.reachback[idx]\n",
        "\n",
        "        # Text embeddings (reachback_length x 384)\n",
        "        text_features = torch.tensor(\n",
        "            np.stack(reachback['caption_embedding'].values),\n",
        "            dtype=torch.float32\n",
        "        )\n",
        "\n",
        "        # Time features (reachback_length x 6)\n",
        "        time_features = torch.tensor(\n",
        "            reachback[['hour_sin', 'hour_cos', 'day_sin', 'day_cos', 'month_sin', 'month_cos']].values,\n",
        "            dtype=torch.float32\n",
        "        )\n",
        "\n",
        "        # Historical features (reachback_length x 4)\n",
        "        historical_features = torch.tensor(\n",
        "            reachback[['rolling_likes', 'timedelta','deriv1','deriv2']].values,\n",
        "            dtype=torch.float32\n",
        "        )\n",
        "\n",
        "        X = torch.cat([text_features, time_features, historical_features], dim=1)\n",
        "        return X, target\n",
        "\n",
        "    def get_dataset(self):\n",
        "      if self.single_user:\n",
        "          for i in range(len(self.reachback)):\n",
        "              value = self.__getitem__(i)\n",
        "              # check if there is any nan\n",
        "              if value[0].isnan().any():\n",
        "                  continue\n",
        "              else:\n",
        "                yield value\n",
        "      else:\n",
        "          for user in self.users:\n",
        "              user_df = self.df[self.df['username'] == user]\n",
        "              for i in range(len(user_df) - self.reachback_length):\n",
        "                  value = self.__getitem__(i)\n",
        "                  # check if there is any nan\n",
        "                  if value[0].isnan().any():\n",
        "                      continue\n",
        "                  else:\n",
        "                    yield value\n",
        "\n",
        "class TwoBranchLikesPredictor(nn.Module):\n",
        "    def __init__(self, sbert_dim=384, time_dim=6, historical_dim=4,\n",
        "                 hidden_dim=64, reachback_length=REACHBACK,\n",
        "                 verobose=False):\n",
        "        super().__init__()\n",
        "        self.reachback_length = reachback_length\n",
        "        self.sbert_dim = sbert_dim\n",
        "        self.time_dim = time_dim\n",
        "        self.historical_dim = historical_dim\n",
        "\n",
        "        self.verbose = verobose\n",
        "\n",
        "        # Text processing\n",
        "        self.text_fc = nn.Linear(sbert_dim, 128) # play with output dimension\n",
        "        self.text_lstm = nn.LSTM(\n",
        "            input_size=128,\n",
        "            hidden_size=64,\n",
        "            batch_first=True\n",
        "        )\n",
        "\n",
        "        # LSTM for temporal/historical patterns\n",
        "        self.lstm = nn.LSTM(\n",
        "            input_size=time_dim + historical_dim,\n",
        "            hidden_size=hidden_dim,\n",
        "            batch_first=True\n",
        "        )\n",
        "\n",
        "        # Final prediction\n",
        "        self.fc = nn.Sequential(\n",
        "            nn.Linear(64 + hidden_dim, 64),\n",
        "            nn.ReLU(),\n",
        "            nn.Linear(64, 1)\n",
        "        )\n",
        "\n",
        "    def forward(self, x):\n",
        "        # Reshape input: (batch_size, reachback_length * total_features) ->\n",
        "        # (batch_size, reachback_length, total_features)\n",
        "        x = x.view(-1, self.reachback_length, self.sbert_dim + self.time_dim + self.historical_dim)\n",
        "\n",
        "        # Split features\n",
        "        text_features = x[:, :, :self.sbert_dim]\n",
        "        time_features = x[:, :, self.sbert_dim:self.sbert_dim+self.time_dim]\n",
        "        historical_features = x[:, :, self.sbert_dim+self.time_dim:self.sbert_dim+self.time_dim + self.historical_dim]\n",
        "\n",
        "        if self.verbose:\n",
        "            print(f\"Text features shape: {text_features.shape}\")\n",
        "            print(f\"Time features shape: {time_features.shape}\")\n",
        "            print(f\"Historical features shape: {historical_features.shape}\")\n",
        "\n",
        "        # Process text (batch_size, reachback_length, 128)\n",
        "        text_emb = self.text_fc(text_features)\n",
        "        text_lstm = self.text_lstm(text_emb)\n",
        "        text_last = text_lstm[0][:, -1, :]  # Last timestep\n",
        "        # text_agg = torch.mean(text_emb, dim=1)  # Average over sequence\n",
        "\n",
        "        if self.verbose:\n",
        "            print(f\"text fc: {text_emb.shape}\")\n",
        "            print(f\"Text agg shape: {text_last.shape}\")\n",
        "\n",
        "        # Process temporal features (batch_size, reachback_length, 6)\n",
        "        temporal_input = torch.cat([time_features, historical_features], dim=2)\n",
        "        lstm_out, _ = self.lstm(temporal_input)\n",
        "        lstm_last = lstm_out[:, -1, :]  # Last timestep\n",
        "\n",
        "        if self.verbose:\n",
        "            print(f\"LSTM output shape: {lstm_last.shape}\")\n",
        "\n",
        "        # Combine features\n",
        "        combined = torch.cat([text_last, lstm_last], dim=1)\n",
        "\n",
        "        if self.verbose:\n",
        "            print(f\"Combined shape: {combined.shape}\")\n",
        "\n",
        "        return self.fc(combined)"
      ],
      "metadata": {
        "id": "rwGuQHDXESy3"
      },
      "execution_count": null,
      "outputs": []
    },
    {
      "cell_type": "code",
      "source": [
        "def train_model(model, train_loader, val_loader, lr=0.001, num_epochs= 10, verbose = False):\n",
        "  optimizer = torch.optim.Adam(model.parameters(), lr=lr)\n",
        "  criterion = nn.MSELoss()\n",
        "\n",
        "  train_loss_history = []\n",
        "  val_loss_history = []\n",
        "  for epoch in tqdm(range(num_epochs)):\n",
        "      # Training phase\n",
        "      model.train()\n",
        "      train_loss = 0.0\n",
        "      for inputs, targets in train_loader:\n",
        "          inputs = inputs.to(device)\n",
        "          targets = targets.to(device).float()\n",
        "          optimizer.zero_grad()\n",
        "\n",
        "          outputs = model(inputs)\n",
        "          loss = criterion(outputs.squeeze(), targets)\n",
        "          loss.backward()\n",
        "          optimizer.step()\n",
        "\n",
        "          train_loss += loss.item() * inputs.size(0)\n",
        "\n",
        "      # Calculate average training loss\n",
        "      train_loss = train_loss / len(train_loader.dataset)\n",
        "\n",
        "      # Validation phase\n",
        "      model.eval()\n",
        "      val_loss = 0.0\n",
        "      with torch.no_grad():\n",
        "          for inputs, targets in val_loader:\n",
        "              inputs = inputs.to(device)\n",
        "              targets = targets.to(device).float()\n",
        "              outputs = model(inputs)\n",
        "              loss = criterion(outputs.squeeze(), targets)\n",
        "              val_loss += loss.item() * inputs.size(0)\n",
        "\n",
        "      val_loss = val_loss / len(val_loader.dataset)\n",
        "\n",
        "      train_loss_history.append(train_loss)\n",
        "      val_loss_history.append(val_loss)\n",
        "\n",
        "      if verbose:\n",
        "        print(f'Epoch {epoch+1}/{num_epochs}')\n",
        "        print(f'Train Loss: {train_loss:.4f} | Val Loss: {val_loss:.4f}')\n",
        "        print('-' * 50)\n",
        "  return model, train_loss_history, val_loss_history\n",
        "\n",
        "def test_model(model, test_loader):\n",
        "  criterion = nn.MSELoss()\n",
        "  model.eval()\n",
        "  test_loss = 0.0\n",
        "  test_loss_unlog = 0.0\n",
        "  with torch.no_grad():\n",
        "      for inputs, targets in test_loader:\n",
        "          outputs = model(inputs)\n",
        "          loss = criterion(outputs.squeeze(), targets)\n",
        "          test_loss += loss.item() * inputs.size(0)\n",
        "\n",
        "          outputs_unlog = torch.exp(outputs)\n",
        "          targets_unlog = torch.exp(targets)\n",
        "          loss_unlog = criterion(outputs_unlog.squeeze(), targets_unlog)\n",
        "          test_loss_unlog += loss_unlog.item() * inputs.size(0)\n",
        "\n",
        "  test_loss = test_loss / len(test_loader.dataset)\n",
        "  test_loss_unlog = test_loss_unlog / len(test_loader.dataset)\n",
        "\n",
        "  return test_loss, test_loss_unlog"
      ],
      "metadata": {
        "id": "mV24zp4QEVKJ"
      },
      "execution_count": null,
      "outputs": []
    },
    {
      "cell_type": "markdown",
      "source": [
        "# palestine / israel"
      ],
      "metadata": {
        "id": "n-GShHPQD9pR"
      }
    },
    {
      "cell_type": "code",
      "source": [
        "date_policy1 = pd.to_datetime('2024-02-09')\n",
        "earliest_before = pd.to_datetime('2023-10-01')\n",
        "\n",
        "before_dates = pd.date_range(start=earliest_before - pd.Timedelta(days=1), end=date_policy1 - pd.Timedelta(days=14), freq='1ME') + pd.Timedelta(days=1)\n",
        "len(before_dates), before_dates"
      ],
      "metadata": {
        "colab": {
          "base_uri": "https://localhost:8080/"
        },
        "id": "RRpCmJOEEc_u",
        "outputId": "d4144b27-34af-4b50-e5fa-962494efb165"
      },
      "execution_count": null,
      "outputs": [
        {
          "output_type": "execute_result",
          "data": {
            "text/plain": [
              "(4,\n",
              " DatetimeIndex(['2023-10-01', '2023-11-01', '2023-12-01', '2024-01-01'], dtype='datetime64[ns]', freq=None))"
            ]
          },
          "metadata": {},
          "execution_count": 20
        }
      ]
    },
    {
      "cell_type": "markdown",
      "source": [
        "### getting residuals"
      ],
      "metadata": {
        "id": "vFkHlzIBfOOh"
      }
    },
    {
      "cell_type": "code",
      "source": [
        "data_loaders1 = dict()\n",
        "\n",
        "data_after = data[data['date'] >= date_policy1]\n",
        "for group in tqdm(group_order):\n",
        "  data_loaders1[group] = dict()\n",
        "  data_after_group = data_after[data_after['group'] == group]\n",
        "\n",
        "  data_group = data[data['group'] == group]\n",
        "  for before in before_dates:\n",
        "    data_before_group = data_group[data_group['date'] < before]\n",
        "    if len(data_before_group) < 100:\n",
        "      print(f\"Not enough data for {group} before {before}\")\n",
        "      data_loaders1[group][before] = None\n",
        "    else:\n",
        "      train_loader, val_loader = df_to_traintest(data_before_group, TwoBranchPrepData)\n",
        "      after_loader = data_loader(data_after_group, TwoBranchPrepData)\n",
        "      data_loaders1[group][before] = (train_loader, val_loader, after_loader)"
      ],
      "metadata": {
        "colab": {
          "base_uri": "https://localhost:8080/"
        },
        "id": "DYfs6bC3GVU1",
        "outputId": "6257ce6d-7a26-4dd5-d353-450f441828e8"
      },
      "execution_count": null,
      "outputs": [
        {
          "output_type": "stream",
          "name": "stderr",
          "text": [
            "100%|██████████| 14/14 [13:44<00:00, 58.88s/it]\n"
          ]
        }
      ]
    },
    {
      "cell_type": "code",
      "source": [
        "# # save data_loaders1\n",
        "# with open(f'{predir}/dataloaders/data_loaders1.pkl', 'wb') as f:\n",
        "#     pickle.dump(data_loaders1, f)"
      ],
      "metadata": {
        "id": "Sf9fxrMEWY9q"
      },
      "execution_count": null,
      "outputs": []
    },
    {
      "cell_type": "code",
      "source": [
        "# with open(f'{predir}/dataloaders/data_loaders1.pkl', 'rb') as f:\n",
        "#     data_loaders1 = pickle.load(f)"
      ],
      "metadata": {
        "id": "FV_vGKZ3Z0bl"
      },
      "execution_count": null,
      "outputs": []
    },
    {
      "cell_type": "code",
      "source": [
        "models1  = dict()\n",
        "\n",
        "for group in group_order:\n",
        "  print(f\"Training {group}\" + \"-\"*30)\n",
        "  models1[group] = dict()\n",
        "  for before in before_dates:\n",
        "    if data_loaders1[group][before] is not None:\n",
        "      train_loader, val_loader, after_loader = data_loaders1[group][before]\n",
        "\n",
        "      model = TwoBranchLikesPredictor(\n",
        "          sbert_dim = 384, reachback_length=REACHBACK\n",
        "      ).to(device)\n",
        "\n",
        "      model, train_loss_history, val_loss_history = train_model(model, train_loader, val_loader, lr=0.001, num_epochs= 20, verbose = False)\n",
        "\n",
        "      models1[group][before] = (model, train_loss_history, val_loss_history)\n",
        "    else:\n",
        "      models1[group][before] = None\n",
        "      print(f\"Not enough data for {group}\")"
      ],
      "metadata": {
        "id": "0HkR_29fWF4x"
      },
      "execution_count": null,
      "outputs": []
    },
    {
      "cell_type": "code",
      "source": [
        "import os\n",
        "# save models\n",
        "for group in group_order:\n",
        "  for before in before_dates:\n",
        "    if models1[group][before] is not None:\n",
        "      model, train_loss_history, val_loss_history = models1[group][before]\n",
        "      before_string = before.strftime('%Y-%m-%d')\n",
        "      torch.save(model.state_dict(), f'{predir}/models/set2/{group}_{before_string}.pt')\n",
        "\n",
        "# for group, (model, train_loss_history, val_loss_history) in models1.items():\n",
        "#   torch.save(model.state_dict(), f'{predir}/models/feb2024/{group}.pt')"
      ],
      "metadata": {
        "id": "znSy87H9X055"
      },
      "execution_count": null,
      "outputs": []
    },
    {
      "cell_type": "code",
      "source": [
        "loaded_models1 = {}\n",
        "for group in tqdm(group_order):\n",
        "    loaded_models1[group] = {}\n",
        "    for before in before_dates:\n",
        "        before_string = before.strftime('%Y-%m-%d')\n",
        "        model_path = f'{predir}/models/set2/{group}_{before_string}.pt'\n",
        "        if os.path.exists(model_path):\n",
        "            model = TwoBranchLikesPredictor(sbert_dim=384, reachback_length=REACHBACK).to(device)\n",
        "            model.load_state_dict(torch.load(model_path))\n",
        "            model.eval()  # Set the model to evaluation mode\n",
        "            loaded_models1[group][before] = model\n",
        "        else:\n",
        "            print(f\"Model file not found for {group} before {before_string}\")\n",
        "            loaded_models1[group][before] = None"
      ],
      "metadata": {
        "id": "2sQur7N05NMm"
      },
      "execution_count": null,
      "outputs": []
    },
    {
      "cell_type": "code",
      "source": [
        "residuals1 = dict()\n",
        "\n",
        "for group in tqdm(group_order):\n",
        "  print(f\"Residuals for {group}\" + \"-\"*30)\n",
        "  residuals1[group] = dict()\n",
        "  for before in before_dates:\n",
        "    model = loaded_models1[group][before]\n",
        "    data_before = data[data['group'] == group]\n",
        "    data_before = data_before[data_before['date'] < before]\n",
        "\n",
        "    dataloader_before = data_loader(data_before.query(f'group == \"{group}\"'), TwoBranchPrepData)\n",
        "    if data_loaders1[group][before] is not None:\n",
        "      train_loader, val_loader, after_loader = data_loaders1[group][before]\n",
        "      model.eval()\n",
        "\n",
        "      residuals_before, residuals_after, residuals_train, residuals_val = [], [], [], []\n",
        "\n",
        "      with torch.no_grad():\n",
        "          for inputs, targets in dataloader_before:\n",
        "              inputs, targets = inputs.to(device), targets.to(device)\n",
        "              outputs = model(inputs)\n",
        "              residuals_before.extend(targets - outputs.squeeze())\n",
        "\n",
        "      with torch.no_grad():\n",
        "          for inputs, targets in after_loader:\n",
        "              inputs, targets = inputs.to(device), targets.to(device)\n",
        "              outputs = model(inputs)\n",
        "              residuals_after.extend(targets - outputs.squeeze())\n",
        "\n",
        "      # with torch.no_grad():\n",
        "      #     for inputs, targets in train_loader:\n",
        "      #         inputs, targets = inputs.to(device), targets.to(device)\n",
        "      #         outputs = model(inputs)\n",
        "      #         residuals_train.extend(targets - outputs.squeeze())\n",
        "\n",
        "      # with torch.no_grad():\n",
        "      #     for inputs, targets in val_loader:\n",
        "      #         inputs, targets = inputs.to(device), targets.to(device)\n",
        "      #         outputs = model(inputs)\n",
        "      #         residuals_val.extend(targets - outputs.squeeze())\n",
        "      residuals_train = None\n",
        "      residuals_val = None\n",
        "\n",
        "      residuals1[group][before] = (residuals_before, residuals_after, residuals_train, residuals_val)\n",
        "    else:\n",
        "      residuals1[group][before] = None\n",
        "      print(f\"Not enough data for {group}\")"
      ],
      "metadata": {
        "colab": {
          "base_uri": "https://localhost:8080/"
        },
        "id": "i6vkjLud7oU4",
        "outputId": "b17473b4-1de2-4cdd-e18d-a3e706ea2934"
      },
      "execution_count": null,
      "outputs": [
        {
          "output_type": "stream",
          "name": "stderr",
          "text": [
            "\r  0%|          | 0/14 [00:00<?, ?it/s]"
          ]
        },
        {
          "output_type": "stream",
          "name": "stdout",
          "text": [
            "Residuals for cat------------------------------\n"
          ]
        },
        {
          "output_type": "stream",
          "name": "stderr",
          "text": [
            "\r  7%|▋         | 1/14 [01:03<13:43, 63.35s/it]"
          ]
        },
        {
          "output_type": "stream",
          "name": "stdout",
          "text": [
            "Residuals for cook------------------------------\n"
          ]
        },
        {
          "output_type": "stream",
          "name": "stderr",
          "text": [
            "\r 14%|█▍        | 2/14 [02:16<13:49, 69.10s/it]"
          ]
        },
        {
          "output_type": "stream",
          "name": "stdout",
          "text": [
            "Residuals for brands------------------------------\n"
          ]
        },
        {
          "output_type": "stream",
          "name": "stderr",
          "text": [
            "\r 21%|██▏       | 3/14 [04:25<17:40, 96.40s/it]"
          ]
        },
        {
          "output_type": "stream",
          "name": "stdout",
          "text": [
            "Residuals for celebrities------------------------------\n"
          ]
        },
        {
          "output_type": "stream",
          "name": "stderr",
          "text": [
            "\r 29%|██▊       | 4/14 [05:39<14:34, 87.49s/it]"
          ]
        },
        {
          "output_type": "stream",
          "name": "stdout",
          "text": [
            "Residuals for democrats------------------------------\n"
          ]
        },
        {
          "output_type": "stream",
          "name": "stderr",
          "text": [
            "\r 36%|███▌      | 5/14 [06:52<12:21, 82.41s/it]"
          ]
        },
        {
          "output_type": "stream",
          "name": "stdout",
          "text": [
            "Residuals for republicans------------------------------\n"
          ]
        },
        {
          "output_type": "stream",
          "name": "stderr",
          "text": [
            "\r 43%|████▎     | 6/14 [08:08<10:40, 80.07s/it]"
          ]
        },
        {
          "output_type": "stream",
          "name": "stdout",
          "text": [
            "Residuals for news------------------------------\n"
          ]
        },
        {
          "output_type": "stream",
          "name": "stderr",
          "text": [
            "\r 50%|█████     | 7/14 [09:05<08:29, 72.77s/it]"
          ]
        },
        {
          "output_type": "stream",
          "name": "stdout",
          "text": [
            "Residuals for healthright------------------------------\n"
          ]
        },
        {
          "output_type": "stream",
          "name": "stderr",
          "text": [
            "\r 57%|█████▋    | 8/14 [10:04<06:49, 68.24s/it]"
          ]
        },
        {
          "output_type": "stream",
          "name": "stdout",
          "text": [
            "Residuals for healthleft------------------------------\n"
          ]
        },
        {
          "output_type": "stream",
          "name": "stderr",
          "text": [
            "\r 64%|██████▍   | 9/14 [10:47<05:01, 60.40s/it]"
          ]
        },
        {
          "output_type": "stream",
          "name": "stdout",
          "text": [
            "Residuals for queer------------------------------\n"
          ]
        },
        {
          "output_type": "stream",
          "name": "stderr",
          "text": [
            "\r 71%|███████▏  | 10/14 [11:49<04:03, 60.98s/it]"
          ]
        },
        {
          "output_type": "stream",
          "name": "stdout",
          "text": [
            "Residuals for gun------------------------------\n"
          ]
        },
        {
          "output_type": "stream",
          "name": "stderr",
          "text": [
            "\r 79%|███████▊  | 11/14 [13:17<03:27, 69.20s/it]"
          ]
        },
        {
          "output_type": "stream",
          "name": "stdout",
          "text": [
            "Residuals for tradwife------------------------------\n"
          ]
        },
        {
          "output_type": "stream",
          "name": "stderr",
          "text": [
            "\r 86%|████████▌ | 12/14 [14:02<02:03, 61.79s/it]"
          ]
        },
        {
          "output_type": "stream",
          "name": "stdout",
          "text": [
            "Residuals for palestine------------------------------\n"
          ]
        },
        {
          "output_type": "stream",
          "name": "stderr",
          "text": [
            "\r 93%|█████████▎| 13/14 [15:02<01:01, 61.24s/it]"
          ]
        },
        {
          "output_type": "stream",
          "name": "stdout",
          "text": [
            "Residuals for zionist------------------------------\n"
          ]
        },
        {
          "output_type": "stream",
          "name": "stderr",
          "text": [
            "100%|██████████| 14/14 [16:15<00:00, 69.67s/it]\n"
          ]
        }
      ]
    },
    {
      "cell_type": "code",
      "source": [
        "# send to cpu\n",
        "for group in group_order:\n",
        "  for before in before_dates:\n",
        "    if residuals1[group][before] is not None:\n",
        "      residuals_before, residuals_after, residuals_train, residuals_val = residuals1[group][before]\n",
        "      residuals_before = [x.cpu().numpy() for x in residuals_before]\n",
        "      residuals_after = [x.cpu().numpy() for x in residuals_after]\n",
        "      # residuals_train = [x.cpu().numpy() for x in residuals_train]\n",
        "      # residuals_val = [x.cpu().numpy() for x in residuals_val]\n",
        "\n",
        "      residuals1[group][before] = (residuals_before, residuals_after, residuals_train, residuals_val)"
      ],
      "metadata": {
        "id": "MvkqPGGFD-zi"
      },
      "execution_count": null,
      "outputs": []
    },
    {
      "cell_type": "code",
      "source": [
        "# compare all residuals of a group across before_dates\n",
        "all_residuals_before = dict()\n",
        "all_residuals_after = dict()\n",
        "for group in group_order:\n",
        "  for before in before_dates:\n",
        "    if before in all_residuals_before.keys():\n",
        "      all_residuals_before[before].extend(residuals1[group][before][0])\n",
        "      all_residuals_after[before].extend(residuals1[group][before][1])\n",
        "    else:\n",
        "      all_residuals_before[before] = residuals1[group][before][0]\n",
        "      all_residuals_after[before] = residuals1[group][before][1]\n",
        "\n",
        "plt.figure(figsize=(12,3))\n",
        "for i,before in enumerate(all_residuals_before.keys()):\n",
        "  before_residuals, after_residuals = all_residuals_before[before], all_residuals_after[before]\n",
        "  plt.subplot(1, 4, i+1)\n",
        "  plt.hist(before_residuals, alpha = 0.5 ,density=True, label = f'Before {before.strftime(\"%B %Y\")}', bins = np.arange(-10.5,10.5,1))\n",
        "  plt.hist(after_residuals, alpha = 0.5 ,density=True, label = 'After Feb 2024', bins = np.arange(-10.5,10.5,1))\n",
        "  plt.title(f'Before {before.strftime(\"%B %Y\")}')\n",
        "plt.legend()\n"
      ],
      "metadata": {
        "colab": {
          "base_uri": "https://localhost:8080/",
          "height": 332
        },
        "id": "Jh1amcMK9QVr",
        "outputId": "b68b9840-ee9d-407f-95c4-d402590dbbd3"
      },
      "execution_count": null,
      "outputs": [
        {
          "output_type": "execute_result",
          "data": {
            "text/plain": [
              "<matplotlib.legend.Legend at 0x7ad751840890>"
            ]
          },
          "metadata": {},
          "execution_count": 59
        },
        {
          "output_type": "display_data",
          "data": {
            "text/plain": [
              "<Figure size 1200x300 with 4 Axes>"
            ],
            "image/png": "[encoded data removed]"
          },
          "metadata": {}
        }
      ]
    },
    {
      "cell_type": "markdown",
      "source": [
        "### residuals analysis"
      ],
      "metadata": {
        "id": "oG0FAJFDfSs5"
      }
    },
    {
      "cell_type": "code",
      "source": [
        "# with open(f'{predir}/residuals/residuals1.pkl', 'wb') as f:\n",
        "    # pickle.dump(residuals1, f)\n",
        "\n",
        "with open(f'{predir}/residuals/residuals1.pkl', 'rb') as f:\n",
        "    residuals1 = pickle.load(f)\n"
      ],
      "metadata": {
        "id": "T_jm50AV-QI0"
      },
      "execution_count": null,
      "outputs": []
    },
    {
      "cell_type": "code",
      "source": [
        "# t-test on averages before and after\n",
        "from scipy.stats import ttest_ind\n",
        "from scipy.stats import permutation_test\n",
        "from datetime import timedelta\n",
        "\n",
        "df_ttest = pd.DataFrame(columns=['group','before','tstat','pval','residual'])\n",
        "\n",
        "for group in group_order:\n",
        "  for before in before_dates:\n",
        "    before_residuals, after_residuals = residuals1[group][before][0], residuals1[group][before][1]\n",
        "\n",
        "    ttest = ttest_ind(before_residuals, after_residuals)\n",
        "    # interval = ttest.confidence_interval()\n",
        "    df_ttest = pd.concat([df_ttest, pd.DataFrame({'group': [group], 'before': [before], 'tstat': [ttest[0]], 'pval': [ttest[1]], 'residual':True})])\n",
        "\n",
        "    before_ll = data[data['date'] < before].query('group == @group')['log_likes']\n",
        "    after_ll = data[data['date'] >= date_policy1].query('group == @group')['log_likes']\n",
        "\n",
        "    ttest = ttest_ind(before_ll, after_ll)\n",
        "\n",
        "    df_ttest = pd.concat([df_ttest, pd.DataFrame({'group': [group], 'before': [before], 'tstat': [ttest[0]], 'pval': [ttest[1]], 'residual':False})])\n",
        "\n",
        "df_ttest['signif'] = (df_ttest['pval'] * 14) < 0.05 # bonferroni correction"
      ],
      "metadata": {
        "colab": {
          "base_uri": "https://localhost:8080/"
        },
        "id": "5IJ6pzjkDEj3",
        "outputId": "7f661c42-51c6-42e1-880c-8a3a8337050f"
      },
      "execution_count": null,
      "outputs": [
        {
          "output_type": "stream",
          "name": "stderr",
          "text": [
            "<ipython-input-36-60e41f1a3437>:14: FutureWarning: The behavior of DataFrame concatenation with empty or all-NA entries is deprecated. In a future version, this will no longer exclude empty or all-NA columns when determining the result dtypes. To retain the old behavior, exclude the relevant entries before the concat operation.\n",
            "  df_ttest = pd.concat([df_ttest, pd.DataFrame({'group': [group], 'before': [before], 'tstat': [ttest[0]], 'pval': [ttest[1]], 'residual':True})])\n"
          ]
        }
      ]
    },
    {
      "cell_type": "code",
      "source": [
        "# make a grouped barchart with different colors for different 'before'\n",
        "\n",
        "\n",
        "x = np.arange(len(group_order))\n",
        "width = 0.2\n",
        "multiplier = 0\n",
        "\n",
        "# make colormap from seaborn rocket\n",
        "colors = sns.color_palette(\"mako\", len(before_dates)+1)[1:]\n",
        "\n",
        "fig, ax = plt.subplots(layout='constrained', figsize = (8,4))\n",
        "for color, before in zip(colors, before_dates):\n",
        "  offset = width * multiplier\n",
        "  df_before = df_ttest[df_ttest['before'] == before]\n",
        "  df_residual = df_before[df_before['residual'] == True].copy()\n",
        "  df_ll = df_before[df_before['residual'] == False].copy()\n",
        "\n",
        "  # rects = ax.bar(x + offset, df_ll['tstat'], 0.05, color='black', alpha = 0.75, zorder = 4)\n",
        "  # change to vlines\n",
        "  ax.vlines(x + offset, ymin=0, ymax=df_ll['tstat'], color='black', alpha = 0.25, zorder = 4, linestyles='dashed')\n",
        "\n",
        "  # rects = ax.bar(x + offset, df_ll['tstat'], 0.05, edgecolor='white', color = 'white', hatch = '////', alpha = 0.5, hatch_linewidth = 2, zorder = 4, linewidth = 0)\n",
        "  # get tstat if significant, otherwise 0\n",
        "  df_ll['signif_values'] = np.where(df_ll['signif'], df_ll['tstat'], 0)\n",
        "  # rects = ax.bar(x + offset, df_ll['signif_values'], 0.05, color='black', zorder = 4)\n",
        "  ax.vlines(x + offset, ymin=0, ymax=df_ll['signif_values'], color='black', zorder = 4)\n",
        "\n",
        "\n",
        "  rects = ax.bar(x + offset, df_residual['tstat'], width, color=color, alpha = 0.75, zorder = 3)\n",
        "  rects = ax.bar(x + offset, df_residual['tstat'], width, edgecolor='white', color = 'white', hatch = '////', alpha = 0.5, hatch_linewidth = 0.8, zorder = 3, linewidth = 0)\n",
        "  # get tstat if significant, otherwise 0\n",
        "  df_residual['signif_values'] = np.where(df_residual['signif'], df_residual['tstat'], 0)\n",
        "  rects = ax.bar(x + offset, df_residual['signif_values'], width, color=color, zorder = 3, label=before.strftime(\"%b %Y\"))\n",
        "  # ax.bar_label(rects, padding=3)\n",
        "  multiplier += 1\n",
        "\n",
        "ax.fill_betweenx([-100,0], -100, 100, color='red', alpha=0.15, zorder = 1)\n",
        "ax.fill_betweenx([0,100], -100, 100, color='green', alpha=0.15, zorder = 1)\n",
        "\n",
        "ax.set_ylabel('t-statistic')\n",
        "ax.set_xticks(x + width, [group_titles[x] for x in group_order], rotation = 45)\n",
        "\n",
        "# set ylim\n",
        "ax.set_ylim(-25,25)\n",
        "ax.set_xlim([-0.5,len(group_order)])\n",
        "\n",
        "# add black square labeled \"significant\" and black with alpha = 0 and white hatches as \"insignificant\"\n",
        "black_patch = mpatches.Patch(color='black', label = 'Significant')\n",
        "white_patch = mpatches.Patch(color='black', label = 'Insignificant', alpha = 0.5)\n",
        "white_patch.update({'hatch': '////', 'edgecolor': 'white', 'linewidth': 0.8})\n",
        "# make black line\n",
        "black_line = mlines.Line2D([], [], color='black', label='Log likes t-statistic')\n",
        "\n",
        "# make separate legend for significant insignificant\n",
        "handles, labels = ax.get_legend_handles_labels()\n",
        "l1 = ax.legend(handles, labels, loc = 2)\n",
        "l2 = ax.legend(handles=[black_patch, white_patch, black_line], labels=['Significant', 'Insignificant','Log likes t-statistic'], loc=3, ncols=2)\n",
        "ax.add_artist(l1)\n",
        "ax.add_artist(l2)\n",
        "\n",
        "\n",
        "# add grid\n",
        "ax.grid(alpha=0.5, linestyle='--', zorder = 0)\n",
        "\n",
        "ax.set_xlabel('Group')\n",
        "ax.set_ylabel('T-Statistic')\n",
        "\n",
        "plt.savefig(predir+'/figs/ttest_split1.png',bbox_inches='tight', dpi = 800)"
      ],
      "metadata": {
        "colab": {
          "base_uri": "https://localhost:8080/",
          "height": 428
        },
        "id": "7_RDhv8MN97o",
        "outputId": "2e22f414-d336-4efa-837c-20b756f45f32"
      },
      "execution_count": null,
      "outputs": [
        {
          "output_type": "display_data",
          "data": {
            "text/plain": [
              "<Figure size 800x400 with 1 Axes>"
            ],
            "image/png": "[encoded data removed]"
          },
          "metadata": {}
        }
      ]
    },
    {
      "cell_type": "markdown",
      "source": [],
      "metadata": {
        "id": "9cJlEK2TH6P4"
      }
    },
    {
      "cell_type": "markdown",
      "source": [
        "# trump inaug"
      ],
      "metadata": {
        "id": "kXM68NJjH6t4"
      }
    },
    {
      "cell_type": "code",
      "source": [
        "date_policy2 = pd.to_datetime('2025-01-07')\n",
        "earliest_before = pd.to_datetime('2024-09-01')\n",
        "\n",
        "before_dates = pd.date_range(start=earliest_before - pd.Timedelta(days=1), end=date_policy2 - pd.Timedelta(days=14), freq='1ME') + pd.Timedelta(days=1)\n",
        "len(before_dates), before_dates"
      ],
      "metadata": {
        "colab": {
          "base_uri": "https://localhost:8080/"
        },
        "outputId": "cfc314ff-0ba2-47e6-fdc4-380ba4c8b510",
        "id": "K0sHDXqwH6t7"
      },
      "execution_count": null,
      "outputs": [
        {
          "output_type": "execute_result",
          "data": {
            "text/plain": [
              "(4,\n",
              " DatetimeIndex(['2024-09-01', '2024-10-01', '2024-11-01', '2024-12-01'], dtype='datetime64[ns]', freq=None))"
            ]
          },
          "metadata": {},
          "execution_count": 59
        }
      ]
    },
    {
      "cell_type": "markdown",
      "source": [
        "### getting residuals"
      ],
      "metadata": {
        "id": "h1Ci6loIfWhi"
      }
    },
    {
      "cell_type": "code",
      "source": [
        "data_loaders2 = dict()\n",
        "\n",
        "data_after = data[data['date'] >= date_policy2]\n",
        "for group in tqdm(group_order):\n",
        "  data_loaders2[group] = dict()\n",
        "  data_after_group = data_after[data_after['group'] == group]\n",
        "\n",
        "  data_group = data[data['group'] == group]\n",
        "  for before in before_dates:\n",
        "    data_before_group = data_group[data_group['date'] < before]\n",
        "    if len(data_before_group) < 100:\n",
        "      print(f\"Not enough data for {group} before {before}\")\n",
        "      data_loaders2[group][before] = None\n",
        "    else:\n",
        "      train_loader, val_loader = df_to_traintest(data_before_group, TwoBranchPrepData)\n",
        "      after_loader = data_loader(data_after_group, TwoBranchPrepData)\n",
        "      data_loaders2[group][before] = (train_loader, val_loader, after_loader)"
      ],
      "metadata": {
        "colab": {
          "base_uri": "https://localhost:8080/"
        },
        "outputId": "cfb40d48-e484-4507-b14b-3def1e5f99c4",
        "id": "lv9B3oKiH6t-"
      },
      "execution_count": null,
      "outputs": [
        {
          "output_type": "stream",
          "name": "stderr",
          "text": [
            "100%|██████████| 14/14 [13:09<00:00, 56.42s/it]\n"
          ]
        }
      ]
    },
    {
      "cell_type": "code",
      "source": [
        "# save data_loaders1\n",
        "with open(f'{predir}/dataloaders/data_loaders2.pkl', 'wb') as f:\n",
        "    pickle.dump(data_loaders2, f)"
      ],
      "metadata": {
        "id": "N4fQHWSfH6uA"
      },
      "execution_count": null,
      "outputs": []
    },
    {
      "cell_type": "code",
      "source": [
        "with open(f'{predir}/data_loaders2.pkl', 'rb') as f:\n",
        "    data_loaders2_saved = pickle.load(f)"
      ],
      "metadata": {
        "id": "ysa03OqaH6uC"
      },
      "execution_count": null,
      "outputs": []
    },
    {
      "cell_type": "code",
      "source": [
        "models2  = dict()\n",
        "\n",
        "for group in group_order:\n",
        "  print(f\"Training {group}\" + \"-\"*30)\n",
        "  models2[group] = dict()\n",
        "  for before in before_dates:\n",
        "    if data_loaders2[group][before] is not None:\n",
        "      train_loader, val_loader, after_loader = data_loaders2[group][before]\n",
        "\n",
        "      model = TwoBranchLikesPredictor(\n",
        "          sbert_dim = 384, reachback_length=REACHBACK\n",
        "      ).to(device)\n",
        "\n",
        "      model, train_loss_history, val_loss_history = train_model(model, train_loader, val_loader, lr=0.001, num_epochs= 20, verbose = False)\n",
        "\n",
        "      models2[group][before] = (model, train_loss_history, val_loss_history)\n",
        "    else:\n",
        "      models2[group][before] = None\n",
        "      print(f\"Not enough data for {group}\")"
      ],
      "metadata": {
        "colab": {
          "base_uri": "https://localhost:8080/"
        },
        "outputId": "ddbee553-cb01-4898-dd44-bdbe1bbad412",
        "id": "UB2K6hRXH6uD"
      },
      "execution_count": null,
      "outputs": [
        {
          "output_type": "stream",
          "name": "stdout",
          "text": [
            "Training cat------------------------------\n"
          ]
        },
        {
          "output_type": "stream",
          "name": "stderr",
          "text": [
            "100%|██████████| 20/20 [03:40<00:00, 11.01s/it]\n",
            "100%|██████████| 20/20 [03:40<00:00, 11.03s/it]\n",
            "100%|██████████| 20/20 [03:40<00:00, 11.03s/it]\n",
            "100%|██████████| 20/20 [03:41<00:00, 11.05s/it]\n"
          ]
        },
        {
          "output_type": "stream",
          "name": "stdout",
          "text": [
            "Training cook------------------------------\n"
          ]
        },
        {
          "output_type": "stream",
          "name": "stderr",
          "text": [
            "100%|██████████| 20/20 [03:44<00:00, 11.25s/it]\n",
            "100%|██████████| 20/20 [03:45<00:00, 11.30s/it]\n",
            "100%|██████████| 20/20 [03:47<00:00, 11.37s/it]\n",
            "100%|██████████| 20/20 [03:47<00:00, 11.37s/it]\n"
          ]
        },
        {
          "output_type": "stream",
          "name": "stdout",
          "text": [
            "Training brands------------------------------\n"
          ]
        },
        {
          "output_type": "stream",
          "name": "stderr",
          "text": [
            "100%|██████████| 20/20 [04:16<00:00, 12.83s/it]\n",
            "100%|██████████| 20/20 [04:18<00:00, 12.93s/it]\n",
            "100%|██████████| 20/20 [04:21<00:00, 13.06s/it]\n",
            "100%|██████████| 20/20 [04:23<00:00, 13.20s/it]\n"
          ]
        },
        {
          "output_type": "stream",
          "name": "stdout",
          "text": [
            "Training celebrities------------------------------\n"
          ]
        },
        {
          "output_type": "stream",
          "name": "stderr",
          "text": [
            "100%|██████████| 20/20 [03:47<00:00, 11.38s/it]\n",
            "100%|██████████| 20/20 [03:49<00:00, 11.46s/it]\n",
            "100%|██████████| 20/20 [03:50<00:00, 11.53s/it]\n",
            "  0%|          | 0/20 [00:00<?, ?it/s]/usr/local/lib/python3.11/dist-packages/torch/nn/modules/loss.py:610: UserWarning: Using a target size (torch.Size([1])) that is different to the input size (torch.Size([])). This will likely lead to incorrect results due to broadcasting. Please ensure they have the same size.\n",
            "  return F.mse_loss(input, target, reduction=self.reduction)\n",
            "100%|██████████| 20/20 [03:50<00:00, 11.54s/it]\n"
          ]
        },
        {
          "output_type": "stream",
          "name": "stdout",
          "text": [
            "Training democrats------------------------------\n"
          ]
        },
        {
          "output_type": "stream",
          "name": "stderr",
          "text": [
            "100%|██████████| 20/20 [03:49<00:00, 11.47s/it]\n",
            "100%|██████████| 20/20 [03:49<00:00, 11.49s/it]\n",
            "100%|██████████| 20/20 [03:51<00:00, 11.60s/it]\n",
            "100%|██████████| 20/20 [03:53<00:00, 11.68s/it]\n"
          ]
        },
        {
          "output_type": "stream",
          "name": "stdout",
          "text": [
            "Training republicans------------------------------\n"
          ]
        },
        {
          "output_type": "stream",
          "name": "stderr",
          "text": [
            "100%|██████████| 20/20 [03:51<00:00, 11.59s/it]\n",
            "100%|██████████| 20/20 [03:53<00:00, 11.66s/it]\n",
            "100%|██████████| 20/20 [03:55<00:00, 11.76s/it]\n",
            "100%|██████████| 20/20 [03:56<00:00, 11.82s/it]\n"
          ]
        },
        {
          "output_type": "stream",
          "name": "stdout",
          "text": [
            "Training news------------------------------\n"
          ]
        },
        {
          "output_type": "stream",
          "name": "stderr",
          "text": [
            "100%|██████████| 20/20 [03:42<00:00, 11.14s/it]\n",
            "100%|██████████| 20/20 [03:43<00:00, 11.17s/it]\n",
            "100%|██████████| 20/20 [03:44<00:00, 11.22s/it]\n",
            "100%|██████████| 20/20 [03:45<00:00, 11.26s/it]\n"
          ]
        },
        {
          "output_type": "stream",
          "name": "stdout",
          "text": [
            "Training healthright------------------------------\n"
          ]
        },
        {
          "output_type": "stream",
          "name": "stderr",
          "text": [
            "100%|██████████| 20/20 [03:48<00:00, 11.43s/it]\n",
            "100%|██████████| 20/20 [03:44<00:00, 11.22s/it]\n",
            "100%|██████████| 20/20 [03:44<00:00, 11.24s/it]\n",
            "100%|██████████| 20/20 [03:45<00:00, 11.29s/it]\n"
          ]
        },
        {
          "output_type": "stream",
          "name": "stdout",
          "text": [
            "Training healthleft------------------------------\n"
          ]
        },
        {
          "output_type": "stream",
          "name": "stderr",
          "text": [
            "100%|██████████| 20/20 [03:31<00:00, 10.58s/it]\n",
            "100%|██████████| 20/20 [03:31<00:00, 10.59s/it]\n",
            "100%|██████████| 20/20 [03:31<00:00, 10.60s/it]\n",
            "100%|██████████| 20/20 [03:32<00:00, 10.61s/it]\n"
          ]
        },
        {
          "output_type": "stream",
          "name": "stdout",
          "text": [
            "Training queer------------------------------\n"
          ]
        },
        {
          "output_type": "stream",
          "name": "stderr",
          "text": [
            "100%|██████████| 20/20 [03:48<00:00, 11.42s/it]\n",
            "100%|██████████| 20/20 [03:49<00:00, 11.45s/it]\n",
            "100%|██████████| 20/20 [03:50<00:00, 11.51s/it]\n",
            "100%|██████████| 20/20 [03:51<00:00, 11.56s/it]\n"
          ]
        },
        {
          "output_type": "stream",
          "name": "stdout",
          "text": [
            "Training gun------------------------------\n"
          ]
        },
        {
          "output_type": "stream",
          "name": "stderr",
          "text": [
            "100%|██████████| 20/20 [03:59<00:00, 11.97s/it]\n",
            "100%|██████████| 20/20 [04:01<00:00, 12.05s/it]\n",
            "100%|██████████| 20/20 [04:03<00:00, 12.18s/it]\n",
            "100%|██████████| 20/20 [04:04<00:00, 12.21s/it]\n"
          ]
        },
        {
          "output_type": "stream",
          "name": "stdout",
          "text": [
            "Training tradwife------------------------------\n"
          ]
        },
        {
          "output_type": "stream",
          "name": "stderr",
          "text": [
            "100%|██████████| 20/20 [03:34<00:00, 10.71s/it]\n",
            "100%|██████████| 20/20 [03:36<00:00, 10.81s/it]\n",
            "100%|██████████| 20/20 [03:36<00:00, 10.82s/it]\n",
            "100%|██████████| 20/20 [03:36<00:00, 10.83s/it]\n"
          ]
        },
        {
          "output_type": "stream",
          "name": "stdout",
          "text": [
            "Training palestine------------------------------\n"
          ]
        },
        {
          "output_type": "stream",
          "name": "stderr",
          "text": [
            "100%|██████████| 20/20 [03:52<00:00, 11.63s/it]\n",
            "100%|██████████| 20/20 [03:53<00:00, 11.67s/it]\n",
            "100%|██████████| 20/20 [03:54<00:00, 11.70s/it]\n",
            "100%|██████████| 20/20 [03:56<00:00, 11.81s/it]\n"
          ]
        },
        {
          "output_type": "stream",
          "name": "stdout",
          "text": [
            "Training zionist------------------------------\n"
          ]
        },
        {
          "output_type": "stream",
          "name": "stderr",
          "text": [
            "100%|██████████| 20/20 [04:08<00:00, 12.41s/it]\n",
            "100%|██████████| 20/20 [04:10<00:00, 12.52s/it]\n",
            "100%|██████████| 20/20 [04:12<00:00, 12.63s/it]\n",
            "100%|██████████| 20/20 [04:14<00:00, 12.74s/it]\n"
          ]
        }
      ]
    },
    {
      "cell_type": "code",
      "source": [
        "import os\n",
        "# save models\n",
        "for group in group_order:\n",
        "  for before in before_dates:\n",
        "    if models2[group][before] is not None:\n",
        "      model, train_loss_history, val_loss_history = models2[group][before]\n",
        "      before_string = before.strftime('%Y-%m-%d')\n",
        "      torch.save(model.state_dict(), f'{predir}/models/set2_jan/{group}_{before_string}.pt')\n",
        "\n",
        "# for group, (model, train_loss_history, val_loss_history) in models1.items():\n",
        "#   torch.save(model.state_dict(), f'{predir}/models/feb2024/{group}.pt')"
      ],
      "metadata": {
        "id": "aaaGpe4sH6uE"
      },
      "execution_count": null,
      "outputs": []
    },
    {
      "cell_type": "code",
      "source": [
        "loaded_models = {}\n",
        "for group in tqdm(group_order):\n",
        "    loaded_models[group] = {}\n",
        "    for before in before_dates:\n",
        "        before_string = before.strftime('%Y-%m-%d')\n",
        "        model_path = f'{predir}/models/set2_jan/{group}_{before_string}.pt'\n",
        "        if os.path.exists(model_path):\n",
        "            model = TwoBranchLikesPredictor(sbert_dim=384, reachback_length=REACHBACK).to(device)\n",
        "            model.load_state_dict(torch.load(model_path))\n",
        "            model.eval()  # Set the model to evaluation mode\n",
        "            loaded_models[group][before] = model\n",
        "        else:\n",
        "            print(f\"Model file not found for {group} before {before_string}\")\n",
        "            loaded_models[group][before] = None"
      ],
      "metadata": {
        "id": "9KeseCZ7H6uG"
      },
      "execution_count": null,
      "outputs": []
    },
    {
      "cell_type": "code",
      "source": [
        "residuals2 = dict()\n",
        "\n",
        "for group in tqdm(group_order):\n",
        "  print(f\"Residuals for {group}\" + \"-\"*30)\n",
        "  residuals2[group] = dict()\n",
        "  for before in before_dates:\n",
        "    model = loaded_models[group][before]\n",
        "    data_before = data[data['group'] == group]\n",
        "    data_before = data_before[data_before['date'] < before]\n",
        "\n",
        "    dataloader_before = data_loader(data_before.query(f'group == \"{group}\"'), TwoBranchPrepData)\n",
        "    if data_loaders2[group][before] is not None:\n",
        "      train_loader, val_loader, after_loader = data_loaders2[group][before]\n",
        "      model.eval()\n",
        "\n",
        "      residuals_before, residuals_after, residuals_train, residuals_val = [], [], [], []\n",
        "\n",
        "      with torch.no_grad():\n",
        "          for inputs, targets in dataloader_before:\n",
        "              inputs, targets = inputs.to(device), targets.to(device)\n",
        "              outputs = model(inputs)\n",
        "              residuals_before.extend(targets - outputs.squeeze())\n",
        "\n",
        "      with torch.no_grad():\n",
        "          for inputs, targets in after_loader:\n",
        "              inputs, targets = inputs.to(device), targets.to(device)\n",
        "              outputs = model(inputs)\n",
        "              residuals_after.extend(targets - outputs.squeeze())\n",
        "\n",
        "      with torch.no_grad():\n",
        "          for inputs, targets in train_loader:\n",
        "              inputs, targets = inputs.to(device), targets.to(device)\n",
        "              outputs = model(inputs)\n",
        "              residuals_train.extend(targets - outputs.squeeze())\n",
        "\n",
        "      with torch.no_grad():\n",
        "          for inputs, targets in val_loader:\n",
        "              inputs, targets = inputs.to(device), targets.to(device)\n",
        "              outputs = model(inputs)\n",
        "              residuals_val.extend(targets - outputs.squeeze())\n",
        "\n",
        "      residuals2[group][before] = (residuals_before, residuals_after, residuals_train, residuals_val)\n",
        "    else:\n",
        "      residuals2[group][before] = None\n",
        "      print(f\"Not enough data for {group}\")"
      ],
      "metadata": {
        "colab": {
          "base_uri": "https://localhost:8080/"
        },
        "outputId": "41f9253a-ad98-4f70-9ecf-90758dfd0e63",
        "id": "HDDGehtTH6uG"
      },
      "execution_count": null,
      "outputs": [
        {
          "output_type": "stream",
          "name": "stderr",
          "text": [
            "\r  0%|          | 0/14 [00:00<?, ?it/s]"
          ]
        },
        {
          "output_type": "stream",
          "name": "stdout",
          "text": [
            "Residuals for cat------------------------------\n"
          ]
        },
        {
          "output_type": "stream",
          "name": "stderr",
          "text": [
            "\r  7%|▋         | 1/14 [01:28<19:12, 88.62s/it]"
          ]
        },
        {
          "output_type": "stream",
          "name": "stdout",
          "text": [
            "Residuals for cook------------------------------\n"
          ]
        },
        {
          "output_type": "stream",
          "name": "stderr",
          "text": [
            "\r 14%|█▍        | 2/14 [03:14<19:42, 98.51s/it]"
          ]
        },
        {
          "output_type": "stream",
          "name": "stdout",
          "text": [
            "Residuals for brands------------------------------\n"
          ]
        },
        {
          "output_type": "stream",
          "name": "stderr",
          "text": [
            "\r 21%|██▏       | 3/14 [06:50<27:57, 152.45s/it]"
          ]
        },
        {
          "output_type": "stream",
          "name": "stdout",
          "text": [
            "Residuals for celebrities------------------------------\n"
          ]
        },
        {
          "output_type": "stream",
          "name": "stderr",
          "text": [
            "\r 29%|██▊       | 4/14 [08:45<22:56, 137.64s/it]"
          ]
        },
        {
          "output_type": "stream",
          "name": "stdout",
          "text": [
            "Residuals for democrats------------------------------\n"
          ]
        },
        {
          "output_type": "stream",
          "name": "stderr",
          "text": [
            "\r 36%|███▌      | 5/14 [10:40<19:23, 129.25s/it]"
          ]
        },
        {
          "output_type": "stream",
          "name": "stdout",
          "text": [
            "Residuals for republicans------------------------------\n"
          ]
        },
        {
          "output_type": "stream",
          "name": "stderr",
          "text": [
            "\r 43%|████▎     | 6/14 [12:39<16:47, 125.97s/it]"
          ]
        },
        {
          "output_type": "stream",
          "name": "stdout",
          "text": [
            "Residuals for news------------------------------\n"
          ]
        },
        {
          "output_type": "stream",
          "name": "stderr",
          "text": [
            "\r 50%|█████     | 7/14 [14:00<12:57, 111.08s/it]"
          ]
        },
        {
          "output_type": "stream",
          "name": "stdout",
          "text": [
            "Residuals for healthright------------------------------\n"
          ]
        },
        {
          "output_type": "stream",
          "name": "stderr",
          "text": [
            "\r 57%|█████▋    | 8/14 [15:24<10:14, 102.49s/it]"
          ]
        },
        {
          "output_type": "stream",
          "name": "stdout",
          "text": [
            "Residuals for healthleft------------------------------\n"
          ]
        },
        {
          "output_type": "stream",
          "name": "stderr",
          "text": [
            "\r 64%|██████▍   | 9/14 [16:17<07:15, 87.10s/it] "
          ]
        },
        {
          "output_type": "stream",
          "name": "stdout",
          "text": [
            "Residuals for queer------------------------------\n"
          ]
        },
        {
          "output_type": "stream",
          "name": "stderr",
          "text": [
            "\r 71%|███████▏  | 10/14 [17:55<06:01, 90.46s/it]"
          ]
        },
        {
          "output_type": "stream",
          "name": "stdout",
          "text": [
            "Residuals for gun------------------------------\n"
          ]
        },
        {
          "output_type": "stream",
          "name": "stderr",
          "text": [
            "\r 79%|███████▊  | 11/14 [20:11<05:13, 104.54s/it]"
          ]
        },
        {
          "output_type": "stream",
          "name": "stdout",
          "text": [
            "Residuals for tradwife------------------------------\n"
          ]
        },
        {
          "output_type": "stream",
          "name": "stderr",
          "text": [
            "\r 86%|████████▌ | 12/14 [21:08<02:59, 89.95s/it] "
          ]
        },
        {
          "output_type": "stream",
          "name": "stdout",
          "text": [
            "Residuals for palestine------------------------------\n"
          ]
        },
        {
          "output_type": "stream",
          "name": "stderr",
          "text": [
            "\r 93%|█████████▎| 13/14 [22:55<01:35, 95.10s/it]"
          ]
        },
        {
          "output_type": "stream",
          "name": "stdout",
          "text": [
            "Residuals for zionist------------------------------\n"
          ]
        },
        {
          "output_type": "stream",
          "name": "stderr",
          "text": [
            "100%|██████████| 14/14 [25:38<00:00, 109.93s/it]\n"
          ]
        }
      ]
    },
    {
      "cell_type": "code",
      "source": [
        "# send to cpu\n",
        "for group in group_order:\n",
        "  for before in before_dates:\n",
        "    if residuals2[group][before] is not None:\n",
        "      residuals_before, residuals_after, residuals_train, residuals_val = residuals2[group][before]\n",
        "      residuals_before = [x.cpu().numpy() for x in residuals_before]\n",
        "      residuals_after = [x.cpu().numpy() for x in residuals_after]\n",
        "      residuals_train = [x.cpu().numpy() for x in residuals_train]\n",
        "      residuals_val = [x.cpu().numpy() for x in residuals_val]\n",
        "\n",
        "      residuals2[group][before] = (residuals_before, residuals_after, residuals_train, residuals_val)"
      ],
      "metadata": {
        "id": "RnQ3-CpxH6uI"
      },
      "execution_count": null,
      "outputs": []
    },
    {
      "cell_type": "code",
      "source": [
        "with open(f'{predir}/residuals/residuals2.pkl', 'wb') as f:\n",
        "    pickle.dump(residuals2, f)"
      ],
      "metadata": {
        "id": "Ny3TedqiFamA"
      },
      "execution_count": null,
      "outputs": []
    },
    {
      "cell_type": "code",
      "source": [
        "# compare all residuals of a group across before_dates\n",
        "all_residuals_before = dict()\n",
        "all_residuals_after = dict()\n",
        "for group in group_order:\n",
        "  for before in before_dates:\n",
        "    if before in all_residuals_before.keys():\n",
        "      all_residuals_before[before].extend(residuals2[group][before][0])\n",
        "      all_residuals_after[before].extend(residuals2[group][before][1])\n",
        "    else:\n",
        "      all_residuals_before[before] = residuals2[group][before][0]\n",
        "      all_residuals_after[before] = residuals2[group][before][1]\n",
        "\n",
        "plt.figure(figsize=(12,3))\n",
        "for i,before in enumerate(all_residuals_before.keys()):\n",
        "  before_residuals, after_residuals = all_residuals_before[before], all_residuals_after[before]\n",
        "  # before_residuals = [x.cpu().numpy() for x in before_residuals]\n",
        "  # after_residuals = [x.cpu().numpy() for x in after_residuals]\n",
        "  plt.subplot(1, 4, i+1)\n",
        "  plt.hist(before_residuals, alpha = 0.5 ,density=True, label = f'Before {before.strftime(\"%B %Y\")}', bins = np.arange(-10.5,10.5,1))\n",
        "  plt.hist(after_residuals, alpha = 0.5 ,density=True, label = 'After Feb 2024', bins = np.arange(-10.5,10.5,1))\n",
        "  plt.title(f'Before {before.strftime(\"%B %Y\")}')\n",
        "plt.legend()\n"
      ],
      "metadata": {
        "colab": {
          "base_uri": "https://localhost:8080/",
          "height": 332
        },
        "outputId": "69543ead-6e78-4871-e371-4a050996b6b3",
        "id": "MMozJUq7H6uJ"
      },
      "execution_count": null,
      "outputs": [
        {
          "output_type": "execute_result",
          "data": {
            "text/plain": [
              "<matplotlib.legend.Legend at 0x7e4dcdd07190>"
            ]
          },
          "metadata": {},
          "execution_count": 73
        },
        {
          "output_type": "display_data",
          "data": {
            "text/plain": [
              "<Figure size 1200x300 with 4 Axes>"
            ],
            "image/png": "[encoded data removed]"
          },
          "metadata": {}
        }
      ]
    },
    {
      "cell_type": "markdown",
      "source": [
        "### residuals analysis"
      ],
      "metadata": {
        "id": "1tkZ5-eFfY9A"
      }
    },
    {
      "cell_type": "code",
      "source": [
        "with open(f'{predir}/residuals/residuals2.pkl', 'rb') as f:\n",
        "    residuals2 = pickle.load(f)"
      ],
      "metadata": {
        "id": "C_rhKDcZFmek"
      },
      "execution_count": null,
      "outputs": []
    },
    {
      "cell_type": "code",
      "source": [
        "# t-test on averages before and after\n",
        "from scipy.stats import ttest_ind\n",
        "from scipy.stats import permutation_test\n",
        "from datetime import timedelta\n",
        "\n",
        "df_ttest = pd.DataFrame(columns=['group','before','tstat','pval','residual'])\n",
        "\n",
        "for group in group_order:\n",
        "  for before in before_dates:\n",
        "    before_residuals, after_residuals = residuals2[group][before][0], residuals2[group][before][1]\n",
        "\n",
        "    ttest = ttest_ind(before_residuals, after_residuals)\n",
        "    # interval = ttest.confidence_interval()\n",
        "    df_ttest = pd.concat([df_ttest, pd.DataFrame({'group': [group], 'before': [before], 'tstat': [ttest[0]], 'pval': [ttest[1]], 'residual':True})])\n",
        "\n",
        "    before_ll = data[data['date'] < before].query('group == @group')['log_likes']\n",
        "    after_ll = data[data['date'] >= date_policy1].query('group == @group')['log_likes']\n",
        "\n",
        "    ttest = ttest_ind(before_ll, after_ll)\n",
        "\n",
        "    df_ttest = pd.concat([df_ttest, pd.DataFrame({'group': [group], 'before': [before], 'tstat': [ttest[0]], 'pval': [ttest[1]], 'residual':False})])\n",
        "\n",
        "df_ttest['signif'] = (df_ttest['pval'] * 14) < 0.05 # bonferroni correction"
      ],
      "metadata": {
        "colab": {
          "base_uri": "https://localhost:8080/"
        },
        "id": "cahVZJS1H6uK",
        "outputId": "4f059899-ad93-4a32-c73a-2461b32a7767"
      },
      "execution_count": null,
      "outputs": [
        {
          "output_type": "stream",
          "name": "stderr",
          "text": [
            "<ipython-input-61-9a4f7414225c>:14: FutureWarning: The behavior of DataFrame concatenation with empty or all-NA entries is deprecated. In a future version, this will no longer exclude empty or all-NA columns when determining the result dtypes. To retain the old behavior, exclude the relevant entries before the concat operation.\n",
            "  df_ttest = pd.concat([df_ttest, pd.DataFrame({'group': [group], 'before': [before], 'tstat': [ttest[0]], 'pval': [ttest[1]], 'residual':True})])\n"
          ]
        }
      ]
    },
    {
      "cell_type": "code",
      "source": [
        "# make a grouped barchart with different colors for different 'before'\n",
        "\n",
        "\n",
        "x = np.arange(len(group_order))\n",
        "width = 0.2\n",
        "multiplier = 0\n",
        "\n",
        "# make colormap from seaborn rocket\n",
        "colors = sns.color_palette(\"mako\", len(before_dates)+1)[1:]\n",
        "\n",
        "fig, ax = plt.subplots(layout='constrained', figsize = (8,4))\n",
        "for color, before in zip(colors, before_dates):\n",
        "  offset = width * multiplier\n",
        "  df_before = df_ttest[df_ttest['before'] == before]\n",
        "  df_residual = df_before[df_before['residual'] == True].copy()\n",
        "  df_ll = df_before[df_before['residual'] == False].copy()\n",
        "\n",
        "  # rects = ax.bar(x + offset, df_ll['tstat'], 0.05, color='black', alpha = 0.75, zorder = 4)\n",
        "  # change to vlines\n",
        "  ax.vlines(x + offset, ymin=0, ymax=df_ll['tstat'], color='black', alpha = 0.25, zorder = 4, linestyles='dashed')\n",
        "\n",
        "  # rects = ax.bar(x + offset, df_ll['tstat'], 0.05, edgecolor='white', color = 'white', hatch = '////', alpha = 0.5, hatch_linewidth = 2, zorder = 4, linewidth = 0)\n",
        "  # get tstat if significant, otherwise 0\n",
        "  df_ll['signif_values'] = np.where(df_ll['signif'], df_ll['tstat'], 0)\n",
        "  # rects = ax.bar(x + offset, df_ll['signif_values'], 0.05, color='black', zorder = 4)\n",
        "  ax.vlines(x + offset, ymin=0, ymax=df_ll['signif_values'], color='black', zorder = 4)\n",
        "\n",
        "\n",
        "  rects = ax.bar(x + offset, df_residual['tstat'], width, color=color, alpha = 0.75, zorder = 3)\n",
        "  rects = ax.bar(x + offset, df_residual['tstat'], width, edgecolor='white', color = 'white', hatch = '////', alpha = 0.5, hatch_linewidth = 0.8, zorder = 3, linewidth = 0)\n",
        "  # get tstat if significant, otherwise 0\n",
        "  df_residual['signif_values'] = np.where(df_residual['signif'], df_residual['tstat'], 0)\n",
        "  rects = ax.bar(x + offset, df_residual['signif_values'], width, color=color, zorder = 3, label=before.strftime(\"%b %Y\"))\n",
        "  # ax.bar_label(rects, padding=3)\n",
        "  multiplier += 1\n",
        "\n",
        "ax.fill_betweenx([-100,0], -100, 100, color='red', alpha=0.15, zorder = 1)\n",
        "ax.fill_betweenx([0,100], -100, 100, color='green', alpha=0.15, zorder = 1)\n",
        "\n",
        "ax.set_ylabel('t-statistic')\n",
        "ax.set_xticks(x + width, [group_titles[x] for x in group_order], rotation = 45)\n",
        "\n",
        "# set ylim\n",
        "ax.set_ylim(-25,25)\n",
        "ax.set_xlim([-0.5,len(group_order)])\n",
        "\n",
        "# add black square labeled \"significant\" and black with alpha = 0 and white hatches as \"insignificant\"\n",
        "black_patch = mpatches.Patch(color='black', label = 'Significant')\n",
        "white_patch = mpatches.Patch(color='black', label = 'Insignificant', alpha = 0.5)\n",
        "white_patch.update({'hatch': '////', 'edgecolor': 'white', 'linewidth': 0.8})\n",
        "# make black line\n",
        "black_line = mlines.Line2D([], [], color='black', label='Log likes t-statistic')\n",
        "\n",
        "# make separate legend for significant insignificant\n",
        "handles, labels = ax.get_legend_handles_labels()\n",
        "l1 = ax.legend(handles, labels, loc = 3)\n",
        "l2 = ax.legend(handles=[black_patch, white_patch, black_line], labels=['Significant', 'Insignificant','Log likes t-statistic'], loc=3, ncols=2,bbox_to_anchor=(0.165,0))\n",
        "ax.add_artist(l1)\n",
        "ax.add_artist(l2)\n",
        "\n",
        "\n",
        "# add grid\n",
        "ax.grid(alpha=0.5, linestyle='--', zorder = 0)\n",
        "\n",
        "ax.set_xlabel('Group')\n",
        "ax.set_ylabel('T-Statistic')\n",
        "\n",
        "# plt.savefig(predir+'/figs/ttest_split1.png',bbox_inches='tight', dpi = 800)"
      ],
      "metadata": {
        "colab": {
          "base_uri": "https://localhost:8080/",
          "height": 446
        },
        "id": "w93RYOtP45ft",
        "outputId": "ba65b851-2244-42b0-af02-cdf2de64938b"
      },
      "execution_count": null,
      "outputs": [
        {
          "output_type": "execute_result",
          "data": {
            "text/plain": [
              "Text(0, 0.5, 'T-Statistic')"
            ]
          },
          "metadata": {},
          "execution_count": 63
        },
        {
          "output_type": "display_data",
          "data": {
            "text/plain": [
              "<Figure size 800x400 with 1 Axes>"
            ],
            "image/png": "[encoded data removed]"
          },
          "metadata": {}
        }
      ]
    },
    {
      "cell_type": "code",
      "source": [
        "# make a grouped barchart with different colors for different 'before'\n",
        "\n",
        "\n",
        "x = np.arange(len(group_order))\n",
        "width = 0.2\n",
        "multiplier = 0\n",
        "\n",
        "# make colormap from seaborn rocket\n",
        "colors = sns.color_palette(\"mako\", len(before_dates)+1)[1:]\n",
        "\n",
        "fig, ax = plt.subplots(layout='constrained', figsize = (8,4))\n",
        "for color, before in zip(colors, before_dates):\n",
        "  offset = width * multiplier\n",
        "  df_before = df_ttest[df_ttest['before'] == before].copy()\n",
        "  rects = ax.bar(x + offset, df_before['tstat'], width, color=color, alpha = 0.75, zorder = 3)\n",
        "  rects = ax.bar(x + offset, df_before['tstat'], width, edgecolor='white', color = 'white', hatch = '////', alpha = 0.5, hatch_linewidth = 0.8, zorder = 3, linewidth = 0)\n",
        "  # get tstat if significant, otherwise 0\n",
        "  df_before['signif_values'] = np.where(df_before['signif'], df_before['tstat'], 0)\n",
        "  rects = ax.bar(x + offset, df_before['signif_values'], width, color=color, zorder = 3, label=before.strftime(\"%b %Y\"))\n",
        "  # ax.bar_label(rects, padding=3)\n",
        "  multiplier += 1\n",
        "\n",
        "ax.fill_betweenx([-100,0], -100, 100, color='red', alpha=0.15, zorder = 1)\n",
        "ax.fill_betweenx([0,100], -100, 100, color='green', alpha=0.15, zorder = 1)\n",
        "\n",
        "ax.set_ylabel('t-statistic')\n",
        "ax.set_xticks(x + width, [group_titles[x] for x in group_order], rotation = 45)\n",
        "\n",
        "# set ylim\n",
        "ax.set_ylim(-25,25)\n",
        "ax.set_xlim([-0.5,len(group_order)])\n",
        "\n",
        "# add black square labeled \"significant\" and black with alpha = 0 and white hatches as \"insignificant\"\n",
        "black_patch = mpatches.Patch(color='black', label = 'Significant')\n",
        "white_patch = mpatches.Patch(color='black', label = 'Insignificant', alpha = 0.5)\n",
        "white_patch.update({'hatch': '////', 'edgecolor': 'white', 'linewidth': 0.8})\n",
        "\n",
        "# make separate legend for significant insignificant\n",
        "handles, labels = ax.get_legend_handles_labels()\n",
        "l1 = ax.legend(handles, labels, loc = 3)\n",
        "l2 = ax.legend(handles=[black_patch, white_patch], labels=['Significant', 'Insignificant'], loc=3, bbox_to_anchor=(0.165,0))\n",
        "ax.add_artist(l1)\n",
        "ax.add_artist(l2)\n",
        "\n",
        "\n",
        "# add grid\n",
        "ax.grid(alpha=0.5, linestyle='--', zorder = 0)\n",
        "\n",
        "ax.set_xlabel('Group')\n",
        "ax.set_ylabel('T-Statistic')\n",
        "\n",
        "plt.savefig(predir+'/figs/ttest_split2.png',bbox_inches='tight', dpi = 800)"
      ],
      "metadata": {
        "colab": {
          "base_uri": "https://localhost:8080/",
          "height": 428
        },
        "id": "1LJuCOfq0ED5",
        "outputId": "0e58b1ac-6eea-4869-8380-3256ec44a714"
      },
      "execution_count": null,
      "outputs": [
        {
          "output_type": "display_data",
          "data": {
            "text/plain": [
              "<Figure size 800x400 with 1 Axes>"
            ],
            "image/png": "[encoded data removed]"
          },
          "metadata": {}
        }
      ]
    },
    {
      "cell_type": "code",
      "source": [
        "# make a grouped barchart with different colors for different 'before'\n",
        "\n",
        "\n",
        "x = np.arange(len(group_order))\n",
        "width = 0.2\n",
        "multiplier = 0\n",
        "\n",
        "fig, ax = plt.subplots(layout='constrained', figsize = (10,3))\n",
        "for color, before in zip(['red','orange','yellow','green'], before_dates):\n",
        "  offset = width * multiplier\n",
        "  df_before = df_ttest[df_ttest['before'] == before].copy()\n",
        "  rects = ax.bar(x + offset, df_before['tstat'], width, label=before.strftime(\"%B %Y\"), color=color, alpha = 0.75)\n",
        "  rects = ax.bar(x + offset, df_before['tstat'], width, edgecolor='white', color = 'white', hatch = '//', alpha = 0.5, hatch_linewidth = 2)\n",
        "  # get tstat if significant, otherwise 0\n",
        "  df_before['signif_values'] = np.where(df_before['signif'], df_before['tstat'], 0)\n",
        "  rects = ax.bar(x + offset, df_before['signif_values'], width, color=color)\n",
        "  # ax.bar_label(rects, padding=3)\n",
        "  multiplier += 1\n",
        "\n",
        "ax.set_ylabel('t-statistic')\n",
        "ax.set_title('t-statistic by group and before')\n",
        "ax.set_xticks(x + width, group_order, rotation = 45)\n",
        "ax.legend(loc='upper left', bbox_to_anchor=(1,1))\n",
        "\n",
        "plt.ylim(-25,15)\n"
      ],
      "metadata": {
        "colab": {
          "base_uri": "https://localhost:8080/",
          "height": 346
        },
        "outputId": "09e78415-6d5c-401a-cd8f-4d317e7730f1",
        "id": "Xy6nQCEYH6uL"
      },
      "execution_count": null,
      "outputs": [
        {
          "output_type": "execute_result",
          "data": {
            "text/plain": [
              "(-25.0, 15.0)"
            ]
          },
          "metadata": {},
          "execution_count": 75
        },
        {
          "output_type": "display_data",
          "data": {
            "text/plain": [
              "<Figure size 1000x300 with 1 Axes>"
            ],
            "image/png": "[encoded data removed]"
          },
          "metadata": {}
        }
      ]
    },
    {
      "cell_type": "code",
      "source": [],
      "metadata": {
        "id": "mFL_HJ2nPUut"
      },
      "execution_count": null,
      "outputs": []
    }
  ]
}